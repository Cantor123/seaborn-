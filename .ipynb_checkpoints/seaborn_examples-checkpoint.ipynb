{
  "cells": [
    {
      "cell_type": "code",
      "execution_count": null,
      "metadata": {},
      "outputs": [],
      "source": [
        "import seaborn as sns\n",
        "import matplotlib.pyplot as plt\n",
        "import numpy as np\n",
        "import pandas as pd\n",
        "%matplotlib inline\n",
        "sns.set_theme(style=\"whitegrid\")  # 设置默认样式"
      ]
    },
    {
      "cell_type": "markdown",
      "metadata": {},
      "source": [
        "# Anscombes Quartet\n\n示例代码:"
      ]
    },
    {
      "cell_type": "code",
      "execution_count": null,
      "metadata": {},
      "outputs": [],
      "source": [
        "import seaborn as sns",
        "sns.set_theme(style=\"ticks\")",
        "",
        "# Load the example dataset for Anscombe's quartet",
        "df = sns.load_dataset(\"anscombe\")",
        "",
        "# Show the results of a linear regression within each dataset",
        "sns.lmplot(",
        "    data=df, x=\"x\", y=\"y\", col=\"dataset\", hue=\"dataset\",",
        "    col_wrap=2, palette=\"muted\", ci=None,",
        "    height=4, scatter_kws={\"s\": 50, \"alpha\": 1}",
        ")"
      ]
    },
    {
      "cell_type": "markdown",
      "metadata": {},
      "source": [
        "# Grouped Barplot\n\n示例代码:"
      ]
    },
    {
      "cell_type": "code",
      "execution_count": null,
      "metadata": {},
      "outputs": [],
      "source": [
        "import seaborn as sns",
        "sns.set_theme(style=\"whitegrid\")",
        "",
        "penguins = sns.load_dataset(\"penguins\")",
        "",
        "# Draw a nested barplot by species and sex",
        "g = sns.catplot(",
        "    data=penguins, kind=\"bar\",",
        "    x=\"species\", y=\"body_mass_g\", hue=\"sex\",",
        "    errorbar=\"sd\", palette=\"dark\", alpha=.6, height=6",
        ")",
        "g.despine(left=True)",
        "g.set_axis_labels(\"\", \"Body mass (g)\")",
        "g.legend.set_title(\"\")"
      ]
    },
    {
      "cell_type": "markdown",
      "metadata": {},
      "source": [
        "# Grouped Boxplot\n\n示例代码:"
      ]
    },
    {
      "cell_type": "code",
      "execution_count": null,
      "metadata": {},
      "outputs": [],
      "source": [
        "import seaborn as sns",
        "sns.set_theme(style=\"ticks\", palette=\"pastel\")",
        "",
        "# Load the example tips dataset",
        "tips = sns.load_dataset(\"tips\")",
        "",
        "# Draw a nested boxplot to show bills by day and time",
        "sns.boxplot(x=\"day\", y=\"total_bill\",",
        "            hue=\"smoker\", palette=[\"m\", \"g\"],",
        "            data=tips)",
        "sns.despine(offset=10, trim=True)"
      ]
    }
  ],
  "metadata": {
    "kernelspec": {
      "display_name": "Python 3",
      "language": "python",
      "name": "python3"
    },
    "language_info": {
      "codemirror_mode": {
        "name": "ipython",
        "version": 3
      },
      "file_extension": ".py",
      "mimetype": "text/x-python",
      "name": "python",
      "nbconvert_exporter": "python",
      "pygments_lexer": "ipython3",
      "version": "3.8.0"
    }
  },
  "nbformat": 4,
  "nbformat_minor": 4
}